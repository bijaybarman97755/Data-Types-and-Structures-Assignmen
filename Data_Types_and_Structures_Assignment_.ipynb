{
  "nbformat": 4,
  "nbformat_minor": 0,
  "metadata": {
    "colab": {
      "provenance": []
    },
    "kernelspec": {
      "name": "python3",
      "display_name": "Python 3"
    },
    "language_info": {
      "name": "python"
    }
  },
  "cells": [
    {
      "cell_type": "markdown",
      "source": [
        "# **Data Types and Structures Questions Solutions**"
      ],
      "metadata": {
        "id": "zc4rT8d_agEl"
      }
    },
    {
      "cell_type": "markdown",
      "source": [
        "# **Q1. What are data structures, and why are they important?**\n",
        "  . In the world of computer science, data structures are fundamental tools that enable efficient data management."
      ],
      "metadata": {
        "id": "-zY7NgzOatfc"
      }
    },
    {
      "cell_type": "markdown",
      "source": [
        "# **Q2. Explain the difference between mutable and immutable data types with examples.**\n",
        "  . Mutable data types are those whose values can be changed after they are created. This means you can modify the contents of\n",
        "\n",
        " the object directly without creating a new object.\n",
        "\n",
        "\n",
        "  . Immutable data types are those whose values cannot be changed after they are created. Any operation that appears to modify an immutable object actually creates a new object.\n",
        "\n"
      ],
      "metadata": {
        "id": "9KR-f6AGcIJM"
      }
    },
    {
      "cell_type": "markdown",
      "source": [
        "# **Q3. What are the main differences between lists and tuples in Python?**\n",
        "  . In Python, the main difference between lists and tuples is that lists are mutable, while tuples are immutable. This means that you can change lists by adding, removing, or modifying elements, but you cannot do the same with tuples."
      ],
      "metadata": {
        "id": "Y5KLIhrKcAy5"
      }
    },
    {
      "cell_type": "markdown",
      "source": [
        "# **Q4.  Describe how dictionaries store data.**\n",
        "  . Python dictionaries are a highly efficient way to store and retrieve data using a key-value pairing system."
      ],
      "metadata": {
        "id": "K4-FqHyXeQnG"
      }
    },
    {
      "cell_type": "markdown",
      "source": [
        "# **Q5. Why might you use a set instead of a list in Python?**\n",
        "  . Sets and lists in Python, while both being collections of items, serve different purposes due to their distinct characteristics."
      ],
      "metadata": {
        "id": "m2CPPUZbeoo4"
      }
    },
    {
      "cell_type": "markdown",
      "source": [
        "# **Q6.  What is a string in Python, and how is it different from a list.**\n",
        "  . In Python, both strings and lists are sequence types, meaning they store an ordered collection of items. However, they have fundamental differences in the type of data they hold and their mutability."
      ],
      "metadata": {
        "id": "MuYFJ4VjfAUO"
      }
    },
    {
      "cell_type": "markdown",
      "source": [
        "# **Q7.  How do tuples ensure data integrity in Python?**\n",
        "  . Tuples are immutable to ensure that their contents remain constant throughout their lifecycle, guaranteeing data integrity and reliability. This immutability allows tuples to be used as keys in dictionaries and elements in sets, as they can be hashed."
      ],
      "metadata": {
        "id": "slCcPvcrfZQH"
      }
    },
    {
      "cell_type": "markdown",
      "source": [
        "# **Q8.  What is a hash table, and how does it relate to dictionaries in Python?**\n",
        "  . A hash table is a data structure that implements an associative array, also known as a dictionary, which can map keys to values. It uses a hash function to compute an index into an array of \"buckets\" or \"slots,\" from which the desired value can be found."
      ],
      "metadata": {
        "id": "7PZtWm8YgF07"
      }
    },
    {
      "cell_type": "markdown",
      "source": [
        "# **Q9. Can lists contain different data types in Python?**\n",
        "  . Yes, Python lists are very flexible and can indeed contain elements of different data types. This is a key characteristic that distinguishes Python lists from arrays in some other programming languages."
      ],
      "metadata": {
        "id": "M7e3_r_JghZa"
      }
    },
    {
      "cell_type": "markdown",
      "source": [
        "# **Q10. Explain why strings are immutable in Python.**\n",
        "  . The immutability of strings in Python is a design choice that offers several benefits."
      ],
      "metadata": {
        "id": "UkiSXW9Yg4XA"
      }
    },
    {
      "cell_type": "markdown",
      "source": [
        "# **Q11. What advantages do dictionaries offer over lists for certain tasks?**\n",
        "  . Dictionaries and lists in Python are both versatile data structures, but they excel in different scenarios.\n",
        "\n",
        " Dictionaries offer distinct advantages over lists for certain tasks, primarily due to their key-value structure and efficient lookup capabilities."
      ],
      "metadata": {
        "id": "mJ5dckeahxaS"
      }
    },
    {
      "cell_type": "markdown",
      "source": [],
      "metadata": {
        "id": "RGrvV0MsiS30"
      }
    },
    {
      "cell_type": "markdown",
      "source": [
        "# **Q12. Describe a scenario where using a tuple would be preferable over a list.**\n",
        "  . A scenario where a tuple would be preferable over a list is when you need to store a collection of items that should not be modified after they are created."
      ],
      "metadata": {
        "id": "wRijChYtlT3W"
      }
    },
    {
      "cell_type": "markdown",
      "source": [
        "# **Q13. How do sets handle duplicate values in Python?**\n",
        "  . In Python, sets are designed to store only unique elements. This fundamental characteristic is how they handle duplicate values."
      ],
      "metadata": {
        "id": "nxiOlahtloNW"
      }
    },
    {
      "cell_type": "markdown",
      "source": [
        "# **Q14. How does the “in” keyword work differently for lists and dictionaries?**\n",
        "  . The \"in\" keyword in Python serves as a membership test, but its behavior differs significantly between lists and dictionaries due to their underlying data structures."
      ],
      "metadata": {
        "id": "VLHwYG7nl1cV"
      }
    },
    {
      "cell_type": "markdown",
      "source": [
        "# **Q15. The \"in\" keyword in Python serves as a membership test, but its behavior differs significantly between lists and dictionaries due to their underlying data structures.**\n",
        "  . Yes, that's a correct and concise summary. To reiterate and emphasize the key difference:\n",
        "\n",
        "\n",
        "   Lists:\n",
        "\n",
        "   . The in operator performs a linear search, checking each element sequentially. This means it becomes slower as the list grows larger.\n",
        "\n",
        "   . It checks for the presence of a specific value within the list.\n",
        "\n",
        "  Dictionaries:\n",
        "\n",
        "   . The in operator leverages the dictionary's hash table implementation, providing near-constant-time lookups. This makes it very efficient, even for large dictionaries.\n",
        "\n",
        "   . It checks for the presence of a specific key within the dictionary.\n",
        "\n",
        "This difference in behavior stems from the fundamental ways these data structures store and access data. Lists are ordered sequences, while dictionaries are key-value pairs optimized for fast lookups based on keys."
      ],
      "metadata": {
        "id": "ik-fFNclmClV"
      }
    },
    {
      "cell_type": "markdown",
      "source": [
        "# **Q16. What is a nested dictionary, and give an example of its use case?**\n",
        "  . A nested dictionary in Python is a dictionary where one or more values are themselves dictionaries. Essentially, it's a dictionary within a dictionary. This allows you to represent hierarchical or complex data structures."
      ],
      "metadata": {
        "id": "JLYJ7dHVnADl"
      }
    },
    {
      "cell_type": "markdown",
      "source": [
        "# **Q17.  Describe the time complexity of accessing elements in a dictionary.**\n",
        "  . When discussing the time complexity of accessing elements in a Python dictionary, it's essential to distinguish between average-case and worst-case scenarios."
      ],
      "metadata": {
        "id": "uw54oz4lnRjd"
      }
    },
    {
      "cell_type": "markdown",
      "source": [
        "# **Q18.  In what situations are lists preferred over dictionaries?**\n",
        "  . For quick data look-ups, configurations, or caches, favor dictionaries. For ordered collections and sequence operations, such as maintaining a stack or queue, lists are more suitable."
      ],
      "metadata": {
        "id": "tePIWVHlnhUc"
      }
    },
    {
      "cell_type": "markdown",
      "source": [
        "# **Q19. Why are dictionaries considered unordered, and how does that affect data retrieval?**\n",
        "  . The concept of dictionaries being \"unordered\" in Python has evolved, but the core principle remains tied to their fundamental purpose: efficient key-based lookups."
      ],
      "metadata": {
        "id": "JQ83Vlwkn8oc"
      }
    },
    {
      "cell_type": "markdown",
      "source": [
        "# **Q20.  Explain the difference between a list and a dictionary in terms of data retrieval.**\n",
        "  . In terms of data retrieval, lists access elements by their numerical index (starting from 0), while dictionaries access elements by their unique, associated key. Dictionaries offer faster retrieval using keys (O(1) average time complexity) compared to lists (O(n) linear time complexity) for large datasets."
      ],
      "metadata": {
        "id": "Z6eu-QUToLhc"
      }
    },
    {
      "cell_type": "markdown",
      "source": [
        "# **Data Types and Structures Practical Solutions**"
      ],
      "metadata": {
        "id": "zXy_XLJfoo50"
      }
    },
    {
      "cell_type": "markdown",
      "source": [
        "# **Q1. Write a code to create a string with your name and print it.**"
      ],
      "metadata": {
        "id": "SvfHIE5no15U"
      }
    },
    {
      "cell_type": "code",
      "source": [
        "my_name = \"Bijay Barman\"\n",
        "print(my_name)"
      ],
      "metadata": {
        "colab": {
          "base_uri": "https://localhost:8080/"
        },
        "id": "qwSHZhASpGTD",
        "outputId": "faba5e80-dd7d-4245-d71c-44b6e95c758d"
      },
      "execution_count": 2,
      "outputs": [
        {
          "output_type": "stream",
          "name": "stdout",
          "text": [
            "Bijay Barman\n"
          ]
        }
      ]
    },
    {
      "cell_type": "markdown",
      "source": [
        "# **Q2. Write a code to find the length of the string \"Hello World\".**"
      ],
      "metadata": {
        "id": "3IBj8_3ipKXb"
      }
    },
    {
      "cell_type": "code",
      "source": [
        "my_string = \"Hello World\"\n",
        "string_length = len(my_string)\n",
        "print(string_length)"
      ],
      "metadata": {
        "colab": {
          "base_uri": "https://localhost:8080/"
        },
        "id": "idT1c-iApenz",
        "outputId": "ba9763b8-efef-4a23-c8c9-8a73597d5230"
      },
      "execution_count": 3,
      "outputs": [
        {
          "output_type": "stream",
          "name": "stdout",
          "text": [
            "11\n"
          ]
        }
      ]
    },
    {
      "cell_type": "markdown",
      "source": [
        "# **Q3. Write a code to slice the first 3 characters from the string \"Python Programming\".**"
      ],
      "metadata": {
        "id": "x4TfzS9qplOE"
      }
    },
    {
      "cell_type": "code",
      "source": [
        "my_string = \"Python Programming\"\n",
        "sliced_string = my_string[:3]\n",
        "print(sliced_string)"
      ],
      "metadata": {
        "colab": {
          "base_uri": "https://localhost:8080/"
        },
        "id": "lv25vUZKps6c",
        "outputId": "13c52661-7bf4-485c-9dc2-6446ce8e5585"
      },
      "execution_count": 4,
      "outputs": [
        {
          "output_type": "stream",
          "name": "stdout",
          "text": [
            "Pyt\n"
          ]
        }
      ]
    },
    {
      "cell_type": "markdown",
      "source": [
        "# **Q4. Write a code to convert the string \"hello\" to uppercase.**"
      ],
      "metadata": {
        "id": "8S7D0PoTp2Sr"
      }
    },
    {
      "cell_type": "code",
      "source": [
        "my_string = \"hello\"\n",
        "uppercase_string = my_string.upper()\n",
        "print(uppercase_string)"
      ],
      "metadata": {
        "colab": {
          "base_uri": "https://localhost:8080/"
        },
        "id": "4DcIwRG3p-Zz",
        "outputId": "a3464367-af71-4e7f-93bf-19dd2e935308"
      },
      "execution_count": 5,
      "outputs": [
        {
          "output_type": "stream",
          "name": "stdout",
          "text": [
            "HELLO\n"
          ]
        }
      ]
    },
    {
      "cell_type": "markdown",
      "source": [
        "# **Q5. Write a code to replace the word \"apple\" with \"orange\" in the string \"I like apple\".**"
      ],
      "metadata": {
        "id": "7slxhfyxqBsc"
      }
    },
    {
      "cell_type": "code",
      "source": [
        "my_string = \"I like apple\"\n",
        "new_string = my_string.replace(\"apple\", \"orange\")\n",
        "print(new_string)"
      ],
      "metadata": {
        "colab": {
          "base_uri": "https://localhost:8080/"
        },
        "id": "2II0CH24qKCD",
        "outputId": "a66b2dbc-ed4e-49fe-97f3-6167f586172b"
      },
      "execution_count": 6,
      "outputs": [
        {
          "output_type": "stream",
          "name": "stdout",
          "text": [
            "I like orange\n"
          ]
        }
      ]
    },
    {
      "cell_type": "markdown",
      "source": [
        "# **Q6. Write a code to create a list with numbers 1 to 5 and print it.**"
      ],
      "metadata": {
        "id": "s9iHv8wUqNpb"
      }
    },
    {
      "cell_type": "code",
      "source": [
        "my_list = [1, 2, 3, 4, 5]\n",
        "print(my_list)"
      ],
      "metadata": {
        "colab": {
          "base_uri": "https://localhost:8080/"
        },
        "id": "TJRIE2y1qNKj",
        "outputId": "957e7f77-388b-4cbc-cd03-84d0031ce1d2"
      },
      "execution_count": 7,
      "outputs": [
        {
          "output_type": "stream",
          "name": "stdout",
          "text": [
            "[1, 2, 3, 4, 5]\n"
          ]
        }
      ]
    },
    {
      "cell_type": "markdown",
      "source": [
        "# **Q7. Write a code to append the number 10 to the list [1, 2, 3, 4].**"
      ],
      "metadata": {
        "id": "srE6nxIGqggT"
      }
    },
    {
      "cell_type": "code",
      "source": [
        "my_list = [1, 2, 3, 4]\n",
        "my_list.append(10)\n",
        "print(my_list)"
      ],
      "metadata": {
        "colab": {
          "base_uri": "https://localhost:8080/"
        },
        "id": "3n-mrbd5qmpz",
        "outputId": "df75be1a-bfb7-4130-d8f7-1914ef51c069"
      },
      "execution_count": 8,
      "outputs": [
        {
          "output_type": "stream",
          "name": "stdout",
          "text": [
            "[1, 2, 3, 4, 10]\n"
          ]
        }
      ]
    },
    {
      "cell_type": "markdown",
      "source": [
        "# **Q8. Write a code to remove the number 3 from the list [1, 2, 3, 4, 5].**"
      ],
      "metadata": {
        "id": "rny0a8rhqsf7"
      }
    },
    {
      "cell_type": "code",
      "source": [
        "my_list = [1, 2, 3, 4, 5]\n",
        "my_list.remove(3)\n",
        "print(my_list)"
      ],
      "metadata": {
        "colab": {
          "base_uri": "https://localhost:8080/"
        },
        "id": "doOlOnWjqy7M",
        "outputId": "6c45ee5f-a1c2-4883-f770-c2d819b4a9be"
      },
      "execution_count": 9,
      "outputs": [
        {
          "output_type": "stream",
          "name": "stdout",
          "text": [
            "[1, 2, 4, 5]\n"
          ]
        }
      ]
    },
    {
      "cell_type": "markdown",
      "source": [
        "# **Q9. Write a code to access the second element in the list ['a', 'b', 'c', 'd'].**"
      ],
      "metadata": {
        "id": "ir5cuC1Hq28C"
      }
    },
    {
      "cell_type": "code",
      "source": [
        "my_list = ['a', 'b', 'c', 'd']\n",
        "second_element = my_list[1]\n",
        "print(second_element)"
      ],
      "metadata": {
        "colab": {
          "base_uri": "https://localhost:8080/"
        },
        "id": "RUTVn2Qbq-N7",
        "outputId": "70dac111-0f17-46f8-b1fc-fd0d0b67360b"
      },
      "execution_count": 10,
      "outputs": [
        {
          "output_type": "stream",
          "name": "stdout",
          "text": [
            "b\n"
          ]
        }
      ]
    },
    {
      "cell_type": "markdown",
      "source": [
        "# **Q10. Write a code to reverse the list [10, 20, 30, 40, 50].**"
      ],
      "metadata": {
        "id": "4XI-Rbg_rEhD"
      }
    },
    {
      "cell_type": "code",
      "source": [
        "my_list = [10, 20, 30, 40, 50]\n",
        "my_list.reverse()\n",
        "print(my_list)"
      ],
      "metadata": {
        "colab": {
          "base_uri": "https://localhost:8080/"
        },
        "id": "JrmM9UHRrDwq",
        "outputId": "d26fa030-0b73-437f-d7c6-16359262ea07"
      },
      "execution_count": 11,
      "outputs": [
        {
          "output_type": "stream",
          "name": "stdout",
          "text": [
            "[50, 40, 30, 20, 10]\n"
          ]
        }
      ]
    },
    {
      "cell_type": "markdown",
      "source": [
        "# **Q11. Write a code to create a tuple with the elements 100, 200, 300 and print it.**"
      ],
      "metadata": {
        "id": "_8VmF5fErbK6"
      }
    },
    {
      "cell_type": "code",
      "source": [
        "my_tuple = (100, 200, 300)\n",
        "print(my_tuple)"
      ],
      "metadata": {
        "colab": {
          "base_uri": "https://localhost:8080/"
        },
        "id": "_ErIJm4Krivz",
        "outputId": "311a08c0-ec60-4484-ae14-f41d78d8b4f3"
      },
      "execution_count": 12,
      "outputs": [
        {
          "output_type": "stream",
          "name": "stdout",
          "text": [
            "(100, 200, 300)\n"
          ]
        }
      ]
    },
    {
      "cell_type": "markdown",
      "source": [
        "# **Q12. Write a code to access the second-to-last element of the tuple ('red', 'green', 'blue', 'yellow').**"
      ],
      "metadata": {
        "id": "a6dH9cLsrnKw"
      }
    },
    {
      "cell_type": "code",
      "source": [
        "my_tuple = ('red', 'green', 'blue', 'yellow')\n",
        "second_to_last = my_tuple[-2]\n",
        "print(second_to_last)"
      ],
      "metadata": {
        "colab": {
          "base_uri": "https://localhost:8080/"
        },
        "id": "Tv-E6ndrrv7y",
        "outputId": "27b69528-7f54-43bc-a49b-b5ffd6f70953"
      },
      "execution_count": 13,
      "outputs": [
        {
          "output_type": "stream",
          "name": "stdout",
          "text": [
            "blue\n"
          ]
        }
      ]
    },
    {
      "cell_type": "markdown",
      "source": [
        "# **Q13. Write a code to find the minimum number in the tuple (10, 20, 5, 15).**"
      ],
      "metadata": {
        "id": "-wI5KOiNr16i"
      }
    },
    {
      "cell_type": "code",
      "source": [
        "my_tuple = (10, 20, 5, 15)\n",
        "minimum_number = min(my_tuple)\n",
        "print(minimum_number)"
      ],
      "metadata": {
        "colab": {
          "base_uri": "https://localhost:8080/"
        },
        "id": "ttT2QOE_r8gy",
        "outputId": "c4ca531b-9143-47e0-f614-eaa9229f3b1f"
      },
      "execution_count": 14,
      "outputs": [
        {
          "output_type": "stream",
          "name": "stdout",
          "text": [
            "5\n"
          ]
        }
      ]
    },
    {
      "cell_type": "markdown",
      "source": [
        "# **Q14. Write a code to find the index of the element \"cat\" in the tuple ('dog', 'cat', 'rabbit').**"
      ],
      "metadata": {
        "id": "iuywAkbDsIL6"
      }
    },
    {
      "cell_type": "code",
      "source": [
        "my_tuple = ('dog', 'cat', 'rabbit')\n",
        "index_of_cat = my_tuple.index('cat')\n",
        "print(index_of_cat)"
      ],
      "metadata": {
        "colab": {
          "base_uri": "https://localhost:8080/"
        },
        "id": "Y6OhzWRtsGJc",
        "outputId": "34cfb7e1-a875-43cf-cf7d-9d75c6b4992a"
      },
      "execution_count": 15,
      "outputs": [
        {
          "output_type": "stream",
          "name": "stdout",
          "text": [
            "1\n"
          ]
        }
      ]
    },
    {
      "cell_type": "markdown",
      "source": [
        "# **Q15. Write a code to create a tuple containing three different fruits and check if \"kiwi\" is in it.**"
      ],
      "metadata": {
        "id": "xZoRsW1ZsT-q"
      }
    },
    {
      "cell_type": "code",
      "source": [
        "fruits_tuple = (\"apple\", \"banana\", \"orange\")\n",
        "\n",
        "if \"kiwi\" in fruits_tuple:\n",
        "    print(\"Kiwi is in the tuple.\")\n",
        "else:\n",
        "    print(\"Kiwi is not in the tuple.\")"
      ],
      "metadata": {
        "colab": {
          "base_uri": "https://localhost:8080/"
        },
        "id": "RKpMBlDbscL6",
        "outputId": "dafcf385-ec64-44db-9d6f-ad9c27fc64ef"
      },
      "execution_count": 16,
      "outputs": [
        {
          "output_type": "stream",
          "name": "stdout",
          "text": [
            "Kiwi is not in the tuple.\n"
          ]
        }
      ]
    },
    {
      "cell_type": "markdown",
      "source": [
        "# **Q16. Write a code to create a set with the elements 'a', 'b', 'c' and print it.**"
      ],
      "metadata": {
        "id": "KbZ0ZK7kshZa"
      }
    },
    {
      "cell_type": "code",
      "source": [
        "my_set = {'a', 'b', 'c'}\n",
        "print(my_set)"
      ],
      "metadata": {
        "colab": {
          "base_uri": "https://localhost:8080/"
        },
        "id": "_-sIN2vZsoK0",
        "outputId": "735dd7c5-ce86-433f-d631-b32e94ab8a71"
      },
      "execution_count": 17,
      "outputs": [
        {
          "output_type": "stream",
          "name": "stdout",
          "text": [
            "{'c', 'b', 'a'}\n"
          ]
        }
      ]
    },
    {
      "cell_type": "markdown",
      "source": [
        "# **Q17. Write a code to clear all elements from the set {1, 2, 3, 4, 5}.**"
      ],
      "metadata": {
        "id": "OGVk5PrOsvp6"
      }
    },
    {
      "cell_type": "code",
      "source": [
        "my_set = {1, 2, 3, 4, 5}\n",
        "my_set.clear()\n",
        "print(my_set)"
      ],
      "metadata": {
        "colab": {
          "base_uri": "https://localhost:8080/"
        },
        "id": "jlEgoUGts23K",
        "outputId": "711984b7-0223-404f-801d-0d780ee7d2b2"
      },
      "execution_count": 18,
      "outputs": [
        {
          "output_type": "stream",
          "name": "stdout",
          "text": [
            "set()\n"
          ]
        }
      ]
    },
    {
      "cell_type": "markdown",
      "source": [
        "# **Q18. Write a code to remove the element 4 from the set {1, 2, 3, 4}.**"
      ],
      "metadata": {
        "id": "XOQUz3wis7Wp"
      }
    },
    {
      "cell_type": "code",
      "source": [
        "my_set = {1, 2, 3, 4}\n",
        "my_set.remove(4)\n",
        "print(my_set)"
      ],
      "metadata": {
        "colab": {
          "base_uri": "https://localhost:8080/"
        },
        "id": "0hidA8zrtBBK",
        "outputId": "a4bcf2d8-d4c1-4ca8-b546-523f7ffed2ca"
      },
      "execution_count": 19,
      "outputs": [
        {
          "output_type": "stream",
          "name": "stdout",
          "text": [
            "{1, 2, 3}\n"
          ]
        }
      ]
    },
    {
      "cell_type": "markdown",
      "source": [
        "# **Q19. Write a code to find the union of two sets {1, 2, 3} and {3, 4, 5}.**"
      ],
      "metadata": {
        "id": "AWUoMIx8tHoZ"
      }
    },
    {
      "cell_type": "code",
      "source": [
        "set1 = {1, 2, 3}\n",
        "set2 = {3, 4, 5}\n",
        "\n",
        "union_set = set1.union(set2)\n",
        "\n",
        "print(union_set)"
      ],
      "metadata": {
        "colab": {
          "base_uri": "https://localhost:8080/"
        },
        "id": "rJGfFzjWtPU6",
        "outputId": "c1f38ddb-05ce-4b20-ab4d-13838729c2ef"
      },
      "execution_count": 20,
      "outputs": [
        {
          "output_type": "stream",
          "name": "stdout",
          "text": [
            "{1, 2, 3, 4, 5}\n"
          ]
        }
      ]
    },
    {
      "cell_type": "markdown",
      "source": [
        "# **Q20. Write a code to find the intersection of two sets {1, 2, 3} and {2, 3, 4}.**"
      ],
      "metadata": {
        "id": "OHozmCl7tT3R"
      }
    },
    {
      "cell_type": "code",
      "source": [
        "set1 = {1, 2, 3}\n",
        "set2 = {2, 3, 4}\n",
        "\n",
        "intersection_set = set1.intersection(set2)\n",
        "\n",
        "print(intersection_set)"
      ],
      "metadata": {
        "colab": {
          "base_uri": "https://localhost:8080/"
        },
        "id": "Ml3sa54Etjty",
        "outputId": "81e55bd2-a91f-4df7-97e7-600c23b49c9e"
      },
      "execution_count": 21,
      "outputs": [
        {
          "output_type": "stream",
          "name": "stdout",
          "text": [
            "{2, 3}\n"
          ]
        }
      ]
    },
    {
      "cell_type": "markdown",
      "source": [
        "# **Q21. Write a code to create a dictionary with the keys \"name\", \"age\", and \"city\", and print it.**"
      ],
      "metadata": {
        "id": "MlvGUVqAtoL7"
      }
    },
    {
      "cell_type": "code",
      "source": [
        "my_dict = {\n",
        "    \"name\": \"John Doe\",\n",
        "    \"age\": 30,\n",
        "    \"city\": \"New York\"\n",
        "}\n",
        "\n",
        "print(my_dict)"
      ],
      "metadata": {
        "colab": {
          "base_uri": "https://localhost:8080/"
        },
        "id": "AcCLdk5UtwAp",
        "outputId": "f6b5cf87-7818-4824-979c-440eebca32a3"
      },
      "execution_count": 22,
      "outputs": [
        {
          "output_type": "stream",
          "name": "stdout",
          "text": [
            "{'name': 'John Doe', 'age': 30, 'city': 'New York'}\n"
          ]
        }
      ]
    },
    {
      "cell_type": "markdown",
      "source": [
        "# **Q22. Write a code to add a new key-value pair \"country\": \"USA\" to the dictionary {'name': 'John', 'age': 25}.**"
      ],
      "metadata": {
        "id": "aJbJHMa0tzfR"
      }
    },
    {
      "cell_type": "code",
      "source": [
        "my_dict = {'name': 'John', 'age': 25}\n",
        "my_dict[\"country\"] = \"USA\"\n",
        "print(my_dict)"
      ],
      "metadata": {
        "colab": {
          "base_uri": "https://localhost:8080/"
        },
        "id": "LxU-jDdQt6Ih",
        "outputId": "c711a983-498d-494c-8779-4a4186c1f23b"
      },
      "execution_count": 23,
      "outputs": [
        {
          "output_type": "stream",
          "name": "stdout",
          "text": [
            "{'name': 'John', 'age': 25, 'country': 'USA'}\n"
          ]
        }
      ]
    },
    {
      "cell_type": "markdown",
      "source": [
        "# **Q23. Write a code to access the value associated with the key \"name\" in the dictionary {'name': 'Alice', 'age': 30}.**"
      ],
      "metadata": {
        "id": "kWkzjyCyuGbJ"
      }
    },
    {
      "cell_type": "code",
      "source": [
        "my_dict = {'name': 'Alice', 'age': 30}\n",
        "name_value = my_dict['name']\n",
        "print(name_value)"
      ],
      "metadata": {
        "colab": {
          "base_uri": "https://localhost:8080/"
        },
        "id": "wonWexFPuFui",
        "outputId": "144cd450-b25e-4fc9-8427-efb4e7a257d6"
      },
      "execution_count": 24,
      "outputs": [
        {
          "output_type": "stream",
          "name": "stdout",
          "text": [
            "Alice\n"
          ]
        }
      ]
    },
    {
      "cell_type": "markdown",
      "source": [
        "# **Q24. Write a code to remove the key \"age\" from the dictionary {'name': 'Bob', 'age': 22, 'city': 'New York'}.**"
      ],
      "metadata": {
        "id": "LKjcKX5IuVRZ"
      }
    },
    {
      "cell_type": "code",
      "source": [
        "my_dict = {'name': 'Bob', 'age': 22, 'city': 'New York'}\n",
        "del my_dict['age']\n",
        "print(my_dict)"
      ],
      "metadata": {
        "colab": {
          "base_uri": "https://localhost:8080/"
        },
        "id": "llRk3-mzuZSB",
        "outputId": "fd5b3318-f852-440b-d9a1-e59e699caedc"
      },
      "execution_count": 25,
      "outputs": [
        {
          "output_type": "stream",
          "name": "stdout",
          "text": [
            "{'name': 'Bob', 'city': 'New York'}\n"
          ]
        }
      ]
    },
    {
      "cell_type": "markdown",
      "source": [
        "# **Q25. Write a code to check if the key \"city\" exists in the dictionary {'name': 'Alice', 'city': 'Paris'}.**"
      ],
      "metadata": {
        "id": "tsVChSTJudlp"
      }
    },
    {
      "cell_type": "code",
      "source": [
        "my_dict = {'name': 'Alice', 'city': 'Paris'}\n",
        "\n",
        "if 'city' in my_dict:\n",
        "    print(\"The key 'city' exists in the dictionary.\")\n",
        "else:\n",
        "    print(\"The key 'city' does not exist in the dictionary.\")"
      ],
      "metadata": {
        "colab": {
          "base_uri": "https://localhost:8080/"
        },
        "id": "ZZZBaneDukfg",
        "outputId": "1338d8ed-e5fc-4e5c-8a63-eab5da994907"
      },
      "execution_count": 26,
      "outputs": [
        {
          "output_type": "stream",
          "name": "stdout",
          "text": [
            "The key 'city' exists in the dictionary.\n"
          ]
        }
      ]
    },
    {
      "cell_type": "markdown",
      "source": [
        "# **Q26. Write a code to create a list, a tuple, and a dictionary, and print them all.**"
      ],
      "metadata": {
        "id": "38Lf6RswurMR"
      }
    },
    {
      "cell_type": "code",
      "source": [
        "my_list = [1, 2, 3, \"apple\"]\n",
        "my_tuple = (10, \"hello\", 20.5)\n",
        "my_dict = {\"name\": \"Bob\", \"age\": 30, \"city\": \"London\"}\n",
        "\n",
        "print(\"List:\", my_list)\n",
        "print(\"Tuple:\", my_tuple)\n",
        "print(\"Dictionary:\", my_dict)"
      ],
      "metadata": {
        "colab": {
          "base_uri": "https://localhost:8080/"
        },
        "id": "nbCNrwVtuwqx",
        "outputId": "e93f8ac3-8b7b-4b15-cb84-360c56503ca8"
      },
      "execution_count": 27,
      "outputs": [
        {
          "output_type": "stream",
          "name": "stdout",
          "text": [
            "List: [1, 2, 3, 'apple']\n",
            "Tuple: (10, 'hello', 20.5)\n",
            "Dictionary: {'name': 'Bob', 'age': 30, 'city': 'London'}\n"
          ]
        }
      ]
    },
    {
      "cell_type": "markdown",
      "source": [
        "# **Q27. Write a code to create a list of 5 random numbers between 1 and 100, sort it in ascending order, and print the result.(replaced).**"
      ],
      "metadata": {
        "id": "4eRs0Tspu1lx"
      }
    },
    {
      "cell_type": "code",
      "source": [
        "import random\n",
        "\n",
        "random_numbers = []\n",
        "for _ in range(5):\n",
        "    random_numbers.append(random.randint(1, 100))\n",
        "\n",
        "random_numbers.sort()\n",
        "\n",
        "print(random_numbers)"
      ],
      "metadata": {
        "colab": {
          "base_uri": "https://localhost:8080/"
        },
        "id": "rkz1R8nIvAgA",
        "outputId": "7fce2c15-c10c-4747-c646-92117e61bc4a"
      },
      "execution_count": 28,
      "outputs": [
        {
          "output_type": "stream",
          "name": "stdout",
          "text": [
            "[10, 20, 20, 36, 60]\n"
          ]
        }
      ]
    },
    {
      "cell_type": "markdown",
      "source": [
        "# **Q28. Write a code to create a list with strings and print the element at the third index.**"
      ],
      "metadata": {
        "id": "yo8Mjo_fvH8w"
      }
    },
    {
      "cell_type": "code",
      "source": [
        "my_list = [\"apple\", \"banana\", \"cherry\", \"date\", \"elderberry\"]\n",
        "third_element = my_list[3]\n",
        "print(third_element)"
      ],
      "metadata": {
        "colab": {
          "base_uri": "https://localhost:8080/"
        },
        "id": "GUgiJNhjvOqB",
        "outputId": "8e0a7f6d-f076-4f24-eb43-0d00c3da20aa"
      },
      "execution_count": 29,
      "outputs": [
        {
          "output_type": "stream",
          "name": "stdout",
          "text": [
            "date\n"
          ]
        }
      ]
    },
    {
      "cell_type": "markdown",
      "source": [
        "# **Q29. Write a code to combine two dictionaries into one and print the result.**"
      ],
      "metadata": {
        "id": "MgNQ4C7PvUBo"
      }
    },
    {
      "cell_type": "code",
      "source": [
        "dict1 = {'a': 1, 'b': 2}\n",
        "dict2 = {'c': 3, 'd': 4}\n",
        "\n",
        "combined_dict = {**dict1, **dict2}\n",
        "\n",
        "print(combined_dict)"
      ],
      "metadata": {
        "colab": {
          "base_uri": "https://localhost:8080/"
        },
        "id": "xoqeM4bwvZWY",
        "outputId": "643379f9-ac4c-4461-f43e-afe41e833060"
      },
      "execution_count": 30,
      "outputs": [
        {
          "output_type": "stream",
          "name": "stdout",
          "text": [
            "{'a': 1, 'b': 2, 'c': 3, 'd': 4}\n"
          ]
        }
      ]
    },
    {
      "cell_type": "markdown",
      "source": [
        "# **Q30. Write a code to convert a list of strings into a set.**"
      ],
      "metadata": {
        "id": "ojLuItg3vfdQ"
      }
    },
    {
      "cell_type": "code",
      "source": [
        "my_list = [\"apple\", \"banana\", \"apple\", \"cherry\", \"date\"]\n",
        "my_set = set(my_list)\n",
        "print(my_set)"
      ],
      "metadata": {
        "colab": {
          "base_uri": "https://localhost:8080/"
        },
        "id": "wVoQTqqJvlvS",
        "outputId": "873b04e4-255b-4683-e90f-a348ced58c80"
      },
      "execution_count": 32,
      "outputs": [
        {
          "output_type": "stream",
          "name": "stdout",
          "text": [
            "{'date', 'apple', 'banana', 'cherry'}\n"
          ]
        }
      ]
    }
  ]
}